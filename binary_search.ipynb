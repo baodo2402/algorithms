{
 "cells": [
  {
   "cell_type": "code",
   "execution_count": 3,
   "id": "aa2004c0",
   "metadata": {},
   "outputs": [
    {
     "name": "stdout",
     "output_type": "stream",
     "text": [
      "Target found at index:  5\n"
     ]
    }
   ],
   "source": [
    "def binary_search(list, target):\n",
    "    first = 0\n",
    "    last = len(list) - 1\n",
    "    \n",
    "    while first <= last:\n",
    "        midpoint = (first + last)//2\n",
    "        \n",
    "        if list[midpoint] == target:\n",
    "            return midpoint\n",
    "        elif list[midpoint] < target:\n",
    "            first = midpoint + 1\n",
    "        else:\n",
    "            last = midpoint - 1\n",
    "    return None\n",
    "\n",
    "def verify(index):\n",
    "    if index is not None:\n",
    "        print(\"Target found at index: \", index)\n",
    "    else:\n",
    "        print(\"Target not found in list\")\n",
    "        \n",
    "numbers = [1,2,3,4,5,6,7,8,9,10]\n",
    "result = binary_search(numbers, 6)\n",
    "verify(result)"
   ]
  },
  {
   "cell_type": "code",
   "execution_count": null,
   "id": "2c4cc2ff",
   "metadata": {},
   "outputs": [],
   "source": []
  }
 ],
 "metadata": {
  "kernelspec": {
   "display_name": "Python 3 (ipykernel)",
   "language": "python",
   "name": "python3"
  },
  "language_info": {
   "codemirror_mode": {
    "name": "ipython",
    "version": 3
   },
   "file_extension": ".py",
   "mimetype": "text/x-python",
   "name": "python",
   "nbconvert_exporter": "python",
   "pygments_lexer": "ipython3",
   "version": "3.10.10"
  }
 },
 "nbformat": 4,
 "nbformat_minor": 5
}
